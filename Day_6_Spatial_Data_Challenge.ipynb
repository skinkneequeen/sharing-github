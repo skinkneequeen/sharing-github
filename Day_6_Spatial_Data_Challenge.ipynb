{
 "cells": [
  {
   "cell_type": "markdown",
   "metadata": {},
   "source": [
    "# REU 2021-06-08 Spatial Data - Challenge"
   ]
  },
  {
   "cell_type": "markdown",
   "metadata": {},
   "source": [
    "## Instructions\n",
    "**Your aim is to compute the southern hemisphere sea ice area for the month of March in 2020, and if you have time expand this code to download all months in 2020 and compute the sea ice area**\n",
    "\n",
    "- **1 Download March 2020 Southern Hemisphere sea ice concentration data (monthly) from NSIDC from this [website](https://nsidc.org/data/g02202) using their FTP server. You are looking to use the data variable** `goddard_merged_seaice_conc_monthly`\n",
    "- **2 Plot the data values and remove the pole hole, lakes, coastal, land, and missing_data (set values in these regions to np.nan), you'll want to use [`xarray.where`]\n",
    "(http://xarray.pydata.org/en/stable/generated/xarray.DataArray.where.html)**\n",
    "- **3 Weight the gridded data and sum up the sea ice area (cell area x sea ice conentration per grid cell)**<br>\n",
    "\n",
    "### Extension\n",
    "- **4 Now download and compute the southern hemisphere sea ice area for all months from 2020**"
   ]
  },
  {
   "cell_type": "markdown",
   "metadata": {},
   "source": [
    "## 1 Download March 2020 Southern Hemisphere data\n",
    "### 1.1 Find the URL to use with wget to download the data\n",
    "**Go to https://nsidc.org/data/g02202 and navigate to the 'Download Data' tab and click 'Go to FTP'**<br>\n",
    "**Then open this in 'finder', you'll then want to navigate to** `south>monthly` **and find the correct file name for March 2020**<br>\n",
    "**Use wget. Hinkt: the start of your URL should start with** `ftp://sidads.colorado.edu/pub/DATASETS/NOAA/G02202_V3`"
   ]
  },
  {
   "cell_type": "code",
   "execution_count": 1,
   "metadata": {},
   "outputs": [],
   "source": [
    "#use wget --spider to check you're downloading the correct file and its size\n",
    "import xarray as xr\n",
    "import matplotlib.pyplot as plt\n",
    "import numpy as np\n",
    "import datetime\n",
    "import cartopy.crs as ccrs\n",
    "import os\n"
   ]
  },
  {
   "cell_type": "code",
   "execution_count": 2,
   "metadata": {},
   "outputs": [
    {
     "name": "stderr",
     "output_type": "stream",
     "text": [
      "/Users/atoc_reu_student/opt/anaconda3/envs/pangeo/lib/python3.8/site-packages/xarray/conventions.py:512: SerializationWarning: variable 'melt_onset_day_seaice_conc_monthly_cdr' has multiple fill values {-1, 65535}, decoding all values to NaN.\n",
      "  new_vars[k] = decode_cf_variable(\n"
     ]
    }
   ],
   "source": [
    "#use wget\n",
    "march_2020 = xr.open_dataset('seaice_conc_monthly_sh_f17_202003_v03r01.nc')"
   ]
  },
  {
   "cell_type": "code",
   "execution_count": null,
   "metadata": {},
   "outputs": [],
   "source": [
    "#check you directory to see if you need to unzip the file"
   ]
  },
  {
   "cell_type": "markdown",
   "metadata": {},
   "source": [
    "## 1.2 Open the NetCDF file you downloaded and have a look at it\n",
    "**Plot the variable** `goddard_merged_seaice_conc_monthly`"
   ]
  },
  {
   "cell_type": "code",
   "execution_count": 3,
   "metadata": {},
   "outputs": [
    {
     "data": {
      "text/html": [
       "<div><svg style=\"position: absolute; width: 0; height: 0; overflow: hidden\">\n",
       "<defs>\n",
       "<symbol id=\"icon-database\" viewBox=\"0 0 32 32\">\n",
       "<path d=\"M16 0c-8.837 0-16 2.239-16 5v4c0 2.761 7.163 5 16 5s16-2.239 16-5v-4c0-2.761-7.163-5-16-5z\"></path>\n",
       "<path d=\"M16 17c-8.837 0-16-2.239-16-5v6c0 2.761 7.163 5 16 5s16-2.239 16-5v-6c0 2.761-7.163 5-16 5z\"></path>\n",
       "<path d=\"M16 26c-8.837 0-16-2.239-16-5v6c0 2.761 7.163 5 16 5s16-2.239 16-5v-6c0 2.761-7.163 5-16 5z\"></path>\n",
       "</symbol>\n",
       "<symbol id=\"icon-file-text2\" viewBox=\"0 0 32 32\">\n",
       "<path d=\"M28.681 7.159c-0.694-0.947-1.662-2.053-2.724-3.116s-2.169-2.030-3.116-2.724c-1.612-1.182-2.393-1.319-2.841-1.319h-15.5c-1.378 0-2.5 1.121-2.5 2.5v27c0 1.378 1.122 2.5 2.5 2.5h23c1.378 0 2.5-1.122 2.5-2.5v-19.5c0-0.448-0.137-1.23-1.319-2.841zM24.543 5.457c0.959 0.959 1.712 1.825 2.268 2.543h-4.811v-4.811c0.718 0.556 1.584 1.309 2.543 2.268zM28 29.5c0 0.271-0.229 0.5-0.5 0.5h-23c-0.271 0-0.5-0.229-0.5-0.5v-27c0-0.271 0.229-0.5 0.5-0.5 0 0 15.499-0 15.5 0v7c0 0.552 0.448 1 1 1h7v19.5z\"></path>\n",
       "<path d=\"M23 26h-14c-0.552 0-1-0.448-1-1s0.448-1 1-1h14c0.552 0 1 0.448 1 1s-0.448 1-1 1z\"></path>\n",
       "<path d=\"M23 22h-14c-0.552 0-1-0.448-1-1s0.448-1 1-1h14c0.552 0 1 0.448 1 1s-0.448 1-1 1z\"></path>\n",
       "<path d=\"M23 18h-14c-0.552 0-1-0.448-1-1s0.448-1 1-1h14c0.552 0 1 0.448 1 1s-0.448 1-1 1z\"></path>\n",
       "</symbol>\n",
       "</defs>\n",
       "</svg>\n",
       "<style>/* CSS stylesheet for displaying xarray objects in jupyterlab.\n",
       " *\n",
       " */\n",
       "\n",
       ":root {\n",
       "  --xr-font-color0: var(--jp-content-font-color0, rgba(0, 0, 0, 1));\n",
       "  --xr-font-color2: var(--jp-content-font-color2, rgba(0, 0, 0, 0.54));\n",
       "  --xr-font-color3: var(--jp-content-font-color3, rgba(0, 0, 0, 0.38));\n",
       "  --xr-border-color: var(--jp-border-color2, #e0e0e0);\n",
       "  --xr-disabled-color: var(--jp-layout-color3, #bdbdbd);\n",
       "  --xr-background-color: var(--jp-layout-color0, white);\n",
       "  --xr-background-color-row-even: var(--jp-layout-color1, white);\n",
       "  --xr-background-color-row-odd: var(--jp-layout-color2, #eeeeee);\n",
       "}\n",
       "\n",
       "html[theme=dark],\n",
       "body.vscode-dark {\n",
       "  --xr-font-color0: rgba(255, 255, 255, 1);\n",
       "  --xr-font-color2: rgba(255, 255, 255, 0.54);\n",
       "  --xr-font-color3: rgba(255, 255, 255, 0.38);\n",
       "  --xr-border-color: #1F1F1F;\n",
       "  --xr-disabled-color: #515151;\n",
       "  --xr-background-color: #111111;\n",
       "  --xr-background-color-row-even: #111111;\n",
       "  --xr-background-color-row-odd: #313131;\n",
       "}\n",
       "\n",
       ".xr-wrap {\n",
       "  display: block;\n",
       "  min-width: 300px;\n",
       "  max-width: 700px;\n",
       "}\n",
       "\n",
       ".xr-text-repr-fallback {\n",
       "  /* fallback to plain text repr when CSS is not injected (untrusted notebook) */\n",
       "  display: none;\n",
       "}\n",
       "\n",
       ".xr-header {\n",
       "  padding-top: 6px;\n",
       "  padding-bottom: 6px;\n",
       "  margin-bottom: 4px;\n",
       "  border-bottom: solid 1px var(--xr-border-color);\n",
       "}\n",
       "\n",
       ".xr-header > div,\n",
       ".xr-header > ul {\n",
       "  display: inline;\n",
       "  margin-top: 0;\n",
       "  margin-bottom: 0;\n",
       "}\n",
       "\n",
       ".xr-obj-type,\n",
       ".xr-array-name {\n",
       "  margin-left: 2px;\n",
       "  margin-right: 10px;\n",
       "}\n",
       "\n",
       ".xr-obj-type {\n",
       "  color: var(--xr-font-color2);\n",
       "}\n",
       "\n",
       ".xr-sections {\n",
       "  padding-left: 0 !important;\n",
       "  display: grid;\n",
       "  grid-template-columns: 150px auto auto 1fr 20px 20px;\n",
       "}\n",
       "\n",
       ".xr-section-item {\n",
       "  display: contents;\n",
       "}\n",
       "\n",
       ".xr-section-item input {\n",
       "  display: none;\n",
       "}\n",
       "\n",
       ".xr-section-item input + label {\n",
       "  color: var(--xr-disabled-color);\n",
       "}\n",
       "\n",
       ".xr-section-item input:enabled + label {\n",
       "  cursor: pointer;\n",
       "  color: var(--xr-font-color2);\n",
       "}\n",
       "\n",
       ".xr-section-item input:enabled + label:hover {\n",
       "  color: var(--xr-font-color0);\n",
       "}\n",
       "\n",
       ".xr-section-summary {\n",
       "  grid-column: 1;\n",
       "  color: var(--xr-font-color2);\n",
       "  font-weight: 500;\n",
       "}\n",
       "\n",
       ".xr-section-summary > span {\n",
       "  display: inline-block;\n",
       "  padding-left: 0.5em;\n",
       "}\n",
       "\n",
       ".xr-section-summary-in:disabled + label {\n",
       "  color: var(--xr-font-color2);\n",
       "}\n",
       "\n",
       ".xr-section-summary-in + label:before {\n",
       "  display: inline-block;\n",
       "  content: '►';\n",
       "  font-size: 11px;\n",
       "  width: 15px;\n",
       "  text-align: center;\n",
       "}\n",
       "\n",
       ".xr-section-summary-in:disabled + label:before {\n",
       "  color: var(--xr-disabled-color);\n",
       "}\n",
       "\n",
       ".xr-section-summary-in:checked + label:before {\n",
       "  content: '▼';\n",
       "}\n",
       "\n",
       ".xr-section-summary-in:checked + label > span {\n",
       "  display: none;\n",
       "}\n",
       "\n",
       ".xr-section-summary,\n",
       ".xr-section-inline-details {\n",
       "  padding-top: 4px;\n",
       "  padding-bottom: 4px;\n",
       "}\n",
       "\n",
       ".xr-section-inline-details {\n",
       "  grid-column: 2 / -1;\n",
       "}\n",
       "\n",
       ".xr-section-details {\n",
       "  display: none;\n",
       "  grid-column: 1 / -1;\n",
       "  margin-bottom: 5px;\n",
       "}\n",
       "\n",
       ".xr-section-summary-in:checked ~ .xr-section-details {\n",
       "  display: contents;\n",
       "}\n",
       "\n",
       ".xr-array-wrap {\n",
       "  grid-column: 1 / -1;\n",
       "  display: grid;\n",
       "  grid-template-columns: 20px auto;\n",
       "}\n",
       "\n",
       ".xr-array-wrap > label {\n",
       "  grid-column: 1;\n",
       "  vertical-align: top;\n",
       "}\n",
       "\n",
       ".xr-preview {\n",
       "  color: var(--xr-font-color3);\n",
       "}\n",
       "\n",
       ".xr-array-preview,\n",
       ".xr-array-data {\n",
       "  padding: 0 5px !important;\n",
       "  grid-column: 2;\n",
       "}\n",
       "\n",
       ".xr-array-data,\n",
       ".xr-array-in:checked ~ .xr-array-preview {\n",
       "  display: none;\n",
       "}\n",
       "\n",
       ".xr-array-in:checked ~ .xr-array-data,\n",
       ".xr-array-preview {\n",
       "  display: inline-block;\n",
       "}\n",
       "\n",
       ".xr-dim-list {\n",
       "  display: inline-block !important;\n",
       "  list-style: none;\n",
       "  padding: 0 !important;\n",
       "  margin: 0;\n",
       "}\n",
       "\n",
       ".xr-dim-list li {\n",
       "  display: inline-block;\n",
       "  padding: 0;\n",
       "  margin: 0;\n",
       "}\n",
       "\n",
       ".xr-dim-list:before {\n",
       "  content: '(';\n",
       "}\n",
       "\n",
       ".xr-dim-list:after {\n",
       "  content: ')';\n",
       "}\n",
       "\n",
       ".xr-dim-list li:not(:last-child):after {\n",
       "  content: ',';\n",
       "  padding-right: 5px;\n",
       "}\n",
       "\n",
       ".xr-has-index {\n",
       "  font-weight: bold;\n",
       "}\n",
       "\n",
       ".xr-var-list,\n",
       ".xr-var-item {\n",
       "  display: contents;\n",
       "}\n",
       "\n",
       ".xr-var-item > div,\n",
       ".xr-var-item label,\n",
       ".xr-var-item > .xr-var-name span {\n",
       "  background-color: var(--xr-background-color-row-even);\n",
       "  margin-bottom: 0;\n",
       "}\n",
       "\n",
       ".xr-var-item > .xr-var-name:hover span {\n",
       "  padding-right: 5px;\n",
       "}\n",
       "\n",
       ".xr-var-list > li:nth-child(odd) > div,\n",
       ".xr-var-list > li:nth-child(odd) > label,\n",
       ".xr-var-list > li:nth-child(odd) > .xr-var-name span {\n",
       "  background-color: var(--xr-background-color-row-odd);\n",
       "}\n",
       "\n",
       ".xr-var-name {\n",
       "  grid-column: 1;\n",
       "}\n",
       "\n",
       ".xr-var-dims {\n",
       "  grid-column: 2;\n",
       "}\n",
       "\n",
       ".xr-var-dtype {\n",
       "  grid-column: 3;\n",
       "  text-align: right;\n",
       "  color: var(--xr-font-color2);\n",
       "}\n",
       "\n",
       ".xr-var-preview {\n",
       "  grid-column: 4;\n",
       "}\n",
       "\n",
       ".xr-var-name,\n",
       ".xr-var-dims,\n",
       ".xr-var-dtype,\n",
       ".xr-preview,\n",
       ".xr-attrs dt {\n",
       "  white-space: nowrap;\n",
       "  overflow: hidden;\n",
       "  text-overflow: ellipsis;\n",
       "  padding-right: 10px;\n",
       "}\n",
       "\n",
       ".xr-var-name:hover,\n",
       ".xr-var-dims:hover,\n",
       ".xr-var-dtype:hover,\n",
       ".xr-attrs dt:hover {\n",
       "  overflow: visible;\n",
       "  width: auto;\n",
       "  z-index: 1;\n",
       "}\n",
       "\n",
       ".xr-var-attrs,\n",
       ".xr-var-data {\n",
       "  display: none;\n",
       "  background-color: var(--xr-background-color) !important;\n",
       "  padding-bottom: 5px !important;\n",
       "}\n",
       "\n",
       ".xr-var-attrs-in:checked ~ .xr-var-attrs,\n",
       ".xr-var-data-in:checked ~ .xr-var-data {\n",
       "  display: block;\n",
       "}\n",
       "\n",
       ".xr-var-data > table {\n",
       "  float: right;\n",
       "}\n",
       "\n",
       ".xr-var-name span,\n",
       ".xr-var-data,\n",
       ".xr-attrs {\n",
       "  padding-left: 25px !important;\n",
       "}\n",
       "\n",
       ".xr-attrs,\n",
       ".xr-var-attrs,\n",
       ".xr-var-data {\n",
       "  grid-column: 1 / -1;\n",
       "}\n",
       "\n",
       "dl.xr-attrs {\n",
       "  padding: 0;\n",
       "  margin: 0;\n",
       "  display: grid;\n",
       "  grid-template-columns: 125px auto;\n",
       "}\n",
       "\n",
       ".xr-attrs dt,\n",
       ".xr-attrs dd {\n",
       "  padding: 0;\n",
       "  margin: 0;\n",
       "  float: left;\n",
       "  padding-right: 10px;\n",
       "  width: auto;\n",
       "}\n",
       "\n",
       ".xr-attrs dt {\n",
       "  font-weight: normal;\n",
       "  grid-column: 1;\n",
       "}\n",
       "\n",
       ".xr-attrs dt:hover span {\n",
       "  display: inline-block;\n",
       "  background: var(--xr-background-color);\n",
       "  padding-right: 10px;\n",
       "}\n",
       "\n",
       ".xr-attrs dd {\n",
       "  grid-column: 2;\n",
       "  white-space: pre-wrap;\n",
       "  word-break: break-all;\n",
       "}\n",
       "\n",
       ".xr-icon-database,\n",
       ".xr-icon-file-text2 {\n",
       "  display: inline-block;\n",
       "  vertical-align: middle;\n",
       "  width: 1em;\n",
       "  height: 1.5em !important;\n",
       "  stroke-width: 0;\n",
       "  stroke: currentColor;\n",
       "  fill: currentColor;\n",
       "}\n",
       "</style><pre class='xr-text-repr-fallback'>&lt;xarray.Dataset&gt;\n",
       "Dimensions:                                 (time: 1, xgrid: 316, ygrid: 332)\n",
       "Coordinates:\n",
       "  * time                                    (time) datetime64[ns] 2020-03-01\n",
       "  * ygrid                                   (ygrid) float32 4.338e+06 ... -3....\n",
       "  * xgrid                                   (xgrid) float32 -3.938e+06 ... 3....\n",
       "    latitude                                (ygrid, xgrid) float64 ...\n",
       "    longitude                               (ygrid, xgrid) float64 ...\n",
       "Data variables:\n",
       "    projection                              |S1 b&#x27;&#x27;\n",
       "    seaice_conc_monthly_cdr                 (time, ygrid, xgrid) float32 ...\n",
       "    stdev_of_seaice_conc_monthly_cdr        (time, ygrid, xgrid) float32 ...\n",
       "    melt_onset_day_seaice_conc_monthly_cdr  (time, ygrid, xgrid) float32 ...\n",
       "    qa_of_seaice_conc_monthly_cdr           (time, ygrid, xgrid) float32 ...\n",
       "    goddard_merged_seaice_conc_monthly      (time, ygrid, xgrid) float32 ...\n",
       "    goddard_nt_seaice_conc_monthly          (time, ygrid, xgrid) float32 ...\n",
       "    goddard_bt_seaice_conc_monthly          (time, ygrid, xgrid) float32 ...\n",
       "Attributes: (12/41)\n",
       "    Conventions:               CF-1.6, ACDD-1.3\n",
       "    title:                     NOAA/NSIDC Climate Data Record of Passive Micr...\n",
       "    references:                Comiso, J. C., and F. Nishio. 2008. Trends in ...\n",
       "    comment:                   The variable melt_onset_day_seaice_conc_monthl...\n",
       "    program:                   NOAA Climate Data Record Program\n",
       "    cdr_variable:              seaice_conc_monthly_cdr\n",
       "    ...                        ...\n",
       "    history:                   seaice_conc_monthly_sh_f17_202003_v03r01.nc cr...\n",
       "    platform:                  DMSP 5D-3/F17 &gt; Defense Meteorological Satelli...\n",
       "    sensor:                    SSMI/S &gt; Special Sensor Microwave Imager/Sounder\n",
       "    date_created:              2021-03-23T23:41:52Z\n",
       "    time_coverage_start:       2020-03-01T00:00:00Z\n",
       "    time_coverage_end:         2020-03-31T23:59:59Z</pre><div class='xr-wrap' hidden><div class='xr-header'><div class='xr-obj-type'>xarray.Dataset</div></div><ul class='xr-sections'><li class='xr-section-item'><input id='section-be8b6371-8c3c-43ff-9b41-163e497cdb2a' class='xr-section-summary-in' type='checkbox' disabled ><label for='section-be8b6371-8c3c-43ff-9b41-163e497cdb2a' class='xr-section-summary'  title='Expand/collapse section'>Dimensions:</label><div class='xr-section-inline-details'><ul class='xr-dim-list'><li><span class='xr-has-index'>time</span>: 1</li><li><span class='xr-has-index'>xgrid</span>: 316</li><li><span class='xr-has-index'>ygrid</span>: 332</li></ul></div><div class='xr-section-details'></div></li><li class='xr-section-item'><input id='section-8594be35-4c64-423a-ad64-a3d7a7f92b54' class='xr-section-summary-in' type='checkbox'  checked><label for='section-8594be35-4c64-423a-ad64-a3d7a7f92b54' class='xr-section-summary' >Coordinates: <span>(5)</span></label><div class='xr-section-inline-details'></div><div class='xr-section-details'><ul class='xr-var-list'><li class='xr-var-item'><div class='xr-var-name'><span class='xr-has-index'>time</span></div><div class='xr-var-dims'>(time)</div><div class='xr-var-dtype'>datetime64[ns]</div><div class='xr-var-preview xr-preview'>2020-03-01</div><input id='attrs-dc6b4bcd-b52e-4a32-b1a6-bd37e596712d' class='xr-var-attrs-in' type='checkbox' ><label for='attrs-dc6b4bcd-b52e-4a32-b1a6-bd37e596712d' title='Show/Hide attributes'><svg class='icon xr-icon-file-text2'><use xlink:href='#icon-file-text2'></use></svg></label><input id='data-39c0c3ce-23d3-470e-97f4-291d362fb923' class='xr-var-data-in' type='checkbox'><label for='data-39c0c3ce-23d3-470e-97f4-291d362fb923' title='Show/Hide data repr'><svg class='icon xr-icon-database'><use xlink:href='#icon-database'></use></svg></label><div class='xr-var-attrs'><dl class='xr-attrs'><dt><span>standard_name :</span></dt><dd>time</dd><dt><span>long_name :</span></dt><dd>ANSI date</dd><dt><span>axis :</span></dt><dd>T</dd></dl></div><div class='xr-var-data'><pre>array([&#x27;2020-03-01T00:00:00.000000000&#x27;], dtype=&#x27;datetime64[ns]&#x27;)</pre></div></li><li class='xr-var-item'><div class='xr-var-name'><span class='xr-has-index'>ygrid</span></div><div class='xr-var-dims'>(ygrid)</div><div class='xr-var-dtype'>float32</div><div class='xr-var-preview xr-preview'>4.338e+06 4.312e+06 ... -3.938e+06</div><input id='attrs-a7258131-6f0f-4be3-8e55-fb457862e3c0' class='xr-var-attrs-in' type='checkbox' ><label for='attrs-a7258131-6f0f-4be3-8e55-fb457862e3c0' title='Show/Hide attributes'><svg class='icon xr-icon-file-text2'><use xlink:href='#icon-file-text2'></use></svg></label><input id='data-1b4176ff-c05d-4e9f-82f9-1477f8296fa4' class='xr-var-data-in' type='checkbox'><label for='data-1b4176ff-c05d-4e9f-82f9-1477f8296fa4' title='Show/Hide data repr'><svg class='icon xr-icon-database'><use xlink:href='#icon-database'></use></svg></label><div class='xr-var-attrs'><dl class='xr-attrs'><dt><span>valid_range :</span></dt><dd>[-3950000.  4350000.]</dd><dt><span>units :</span></dt><dd>meters</dd><dt><span>long_name :</span></dt><dd>projection_grid_y_centers</dd><dt><span>standard_name :</span></dt><dd>projection_y_coordinate</dd><dt><span>axis :</span></dt><dd>Y</dd></dl></div><div class='xr-var-data'><pre>array([ 4337500.,  4312500.,  4287500., ..., -3887500., -3912500., -3937500.],\n",
       "      dtype=float32)</pre></div></li><li class='xr-var-item'><div class='xr-var-name'><span class='xr-has-index'>xgrid</span></div><div class='xr-var-dims'>(xgrid)</div><div class='xr-var-dtype'>float32</div><div class='xr-var-preview xr-preview'>-3.938e+06 -3.912e+06 ... 3.938e+06</div><input id='attrs-b4f24ba5-c9cc-49a1-b84b-6ca4735a09cf' class='xr-var-attrs-in' type='checkbox' ><label for='attrs-b4f24ba5-c9cc-49a1-b84b-6ca4735a09cf' title='Show/Hide attributes'><svg class='icon xr-icon-file-text2'><use xlink:href='#icon-file-text2'></use></svg></label><input id='data-4d727fc3-899b-472e-b283-68b8c380e4a1' class='xr-var-data-in' type='checkbox'><label for='data-4d727fc3-899b-472e-b283-68b8c380e4a1' title='Show/Hide data repr'><svg class='icon xr-icon-database'><use xlink:href='#icon-database'></use></svg></label><div class='xr-var-attrs'><dl class='xr-attrs'><dt><span>valid_range :</span></dt><dd>[-3950000.  3950000.]</dd><dt><span>units :</span></dt><dd>meters</dd><dt><span>long_name :</span></dt><dd>projection_grid_x_centers</dd><dt><span>standard_name :</span></dt><dd>projection_x_coordinate</dd><dt><span>axis :</span></dt><dd>X</dd></dl></div><div class='xr-var-data'><pre>array([-3937500., -3912500., -3887500., ...,  3887500.,  3912500.,  3937500.],\n",
       "      dtype=float32)</pre></div></li><li class='xr-var-item'><div class='xr-var-name'><span>latitude</span></div><div class='xr-var-dims'>(ygrid, xgrid)</div><div class='xr-var-dtype'>float64</div><div class='xr-var-preview xr-preview'>...</div><input id='attrs-323c59bd-dac8-4a5e-a348-b9eab177ce1b' class='xr-var-attrs-in' type='checkbox' ><label for='attrs-323c59bd-dac8-4a5e-a348-b9eab177ce1b' title='Show/Hide attributes'><svg class='icon xr-icon-file-text2'><use xlink:href='#icon-file-text2'></use></svg></label><input id='data-d0b0644f-6d6b-4ca5-9c36-30300af9da2b' class='xr-var-data-in' type='checkbox'><label for='data-d0b0644f-6d6b-4ca5-9c36-30300af9da2b' title='Show/Hide data repr'><svg class='icon xr-icon-database'><use xlink:href='#icon-database'></use></svg></label><div class='xr-var-attrs'><dl class='xr-attrs'><dt><span>standard_name :</span></dt><dd>latitude</dd><dt><span>long_name :</span></dt><dd>latitude</dd><dt><span>units :</span></dt><dd>degrees_north</dd><dt><span>valid_range :</span></dt><dd>[-90.   0.]</dd></dl></div><div class='xr-var-data'><pre>[104912 values with dtype=float64]</pre></div></li><li class='xr-var-item'><div class='xr-var-name'><span>longitude</span></div><div class='xr-var-dims'>(ygrid, xgrid)</div><div class='xr-var-dtype'>float64</div><div class='xr-var-preview xr-preview'>...</div><input id='attrs-2089a1e2-9d86-40da-8d99-292eef890562' class='xr-var-attrs-in' type='checkbox' ><label for='attrs-2089a1e2-9d86-40da-8d99-292eef890562' title='Show/Hide attributes'><svg class='icon xr-icon-file-text2'><use xlink:href='#icon-file-text2'></use></svg></label><input id='data-5931b793-ecf2-49db-979b-d90175a1d775' class='xr-var-data-in' type='checkbox'><label for='data-5931b793-ecf2-49db-979b-d90175a1d775' title='Show/Hide data repr'><svg class='icon xr-icon-database'><use xlink:href='#icon-database'></use></svg></label><div class='xr-var-attrs'><dl class='xr-attrs'><dt><span>standard_name :</span></dt><dd>longitude</dd><dt><span>long_name :</span></dt><dd>longitude</dd><dt><span>units :</span></dt><dd>degrees_east</dd><dt><span>valid_range :</span></dt><dd>[-180.  180.]</dd></dl></div><div class='xr-var-data'><pre>[104912 values with dtype=float64]</pre></div></li></ul></div></li><li class='xr-section-item'><input id='section-6427ba37-4f7a-42a0-9c75-8ec4bfb7e5b5' class='xr-section-summary-in' type='checkbox'  checked><label for='section-6427ba37-4f7a-42a0-9c75-8ec4bfb7e5b5' class='xr-section-summary' >Data variables: <span>(8)</span></label><div class='xr-section-inline-details'></div><div class='xr-section-details'><ul class='xr-var-list'><li class='xr-var-item'><div class='xr-var-name'><span>projection</span></div><div class='xr-var-dims'>()</div><div class='xr-var-dtype'>|S1</div><div class='xr-var-preview xr-preview'>...</div><input id='attrs-f53c6593-7085-487e-8323-f76fa3e7cfea' class='xr-var-attrs-in' type='checkbox' ><label for='attrs-f53c6593-7085-487e-8323-f76fa3e7cfea' title='Show/Hide attributes'><svg class='icon xr-icon-file-text2'><use xlink:href='#icon-file-text2'></use></svg></label><input id='data-3cc0117d-2700-4303-91e1-cd3e2b223790' class='xr-var-data-in' type='checkbox'><label for='data-3cc0117d-2700-4303-91e1-cd3e2b223790' title='Show/Hide data repr'><svg class='icon xr-icon-database'><use xlink:href='#icon-database'></use></svg></label><div class='xr-var-attrs'><dl class='xr-attrs'><dt><span>grid_boundary_top_projected_y :</span></dt><dd>4350000.0</dd><dt><span>grid_boundary_bottom_projected_y :</span></dt><dd>-3950000.0</dd><dt><span>grid_boundary_right_projected_x :</span></dt><dd>3950000.0</dd><dt><span>grid_boundary_left_projected_x :</span></dt><dd>-3950000.0</dd><dt><span>parent_grid_cell_row_subset_start :</span></dt><dd>0.0</dd><dt><span>parent_grid_cell_row_subset_end :</span></dt><dd>332.0</dd><dt><span>parent_grid_cell_column_subset_start :</span></dt><dd>0.0</dd><dt><span>parent_grid_cell_column_subset_end :</span></dt><dd>316.0</dd><dt><span>spatial_ref :</span></dt><dd>PROJCS[&quot;NSIDC Sea Ice Polar Stereographic South&quot;,GEOGCS[&quot;Unspecified datum based upon the Hughes 1980 ellipsoid&quot;,DATUM[&quot;Not_specified_based_on_Hughes_1980_ellipsoid&quot;,SPHEROID[&quot;Hughes 1980&quot;,6378273,298.279411123061,AUTHORITY[&quot;EPSG&quot;,&quot;7058&quot;]],AUTHORITY[&quot;EPSG&quot;,&quot;6054&quot;]],PRIMEM[&quot;Greenwich&quot;,0,AUTHORITY[&quot;EPSG&quot;,&quot;8901&quot;]],UNIT[&quot;degree&quot;,0.01745329251994328,AUTHORITY[&quot;EPSG&quot;,&quot;9122&quot;]],AUTHORITY[&quot;EPSG&quot;,&quot;4054&quot;]],UNIT[&quot;metre&quot;,1,AUTHORITY[&quot;EPSG&quot;,&quot;9001&quot;]],PROJECTION[&quot;Polar_Stereographic&quot;],PARAMETER[&quot;latitude_of_origin&quot;,-70],PARAMETER[&quot;central_meridian&quot;,0],PARAMETER[&quot;scale_factor&quot;,1],PARAMETER[&quot;false_easting&quot;,0],PARAMETER[&quot;false_northing&quot;,0],AUTHORITY[&quot;EPSG&quot;,&quot;3412&quot;],AXIS[&quot;X&quot;,UNKNOWN],AXIS[&quot;Y&quot;,UNKNOWN]]</dd><dt><span>proj4text :</span></dt><dd>+proj=stere +lat_0=-90 +lat_ts=-70 +lon_0=0 +k=1 +x_0=0 +y_0=0 +a=6378273 +b=6356889.449 +units=m +no_defs</dd><dt><span>srid :</span></dt><dd>urn:ogc:def:crs:EPSG::3412</dd><dt><span>GeoTransform :</span></dt><dd>-3950000.0 25000.0 0 4350000.0 0 25000.0</dd><dt><span>grid_mapping_name :</span></dt><dd>polar_stereographic</dd><dt><span>latitude_of_projection_origin :</span></dt><dd>-90.0</dd><dt><span>standard_parallel :</span></dt><dd>-70.0</dd><dt><span>straight_vertical_longitude_from_pole :</span></dt><dd>180.0</dd><dt><span>longitude_of_projection_origin :</span></dt><dd>0.0</dd><dt><span>scaling_factor :</span></dt><dd>1.0</dd><dt><span>false_easting :</span></dt><dd>0.0</dd><dt><span>false_northing :</span></dt><dd>0.0</dd><dt><span>semimajor_radius :</span></dt><dd>6378273.0</dd><dt><span>semiminor_radius :</span></dt><dd>6356889.449</dd><dt><span>units :</span></dt><dd>meters</dd></dl></div><div class='xr-var-data'><pre>array(b&#x27;&#x27;, dtype=&#x27;|S1&#x27;)</pre></div></li><li class='xr-var-item'><div class='xr-var-name'><span>seaice_conc_monthly_cdr</span></div><div class='xr-var-dims'>(time, ygrid, xgrid)</div><div class='xr-var-dtype'>float32</div><div class='xr-var-preview xr-preview'>...</div><input id='attrs-1fbf4da7-5ee5-4c3d-ac0f-b421cf5d6fb8' class='xr-var-attrs-in' type='checkbox' ><label for='attrs-1fbf4da7-5ee5-4c3d-ac0f-b421cf5d6fb8' title='Show/Hide attributes'><svg class='icon xr-icon-file-text2'><use xlink:href='#icon-file-text2'></use></svg></label><input id='data-0795170a-1274-4f43-9fdd-009b5f4c9730' class='xr-var-data-in' type='checkbox'><label for='data-0795170a-1274-4f43-9fdd-009b5f4c9730' title='Show/Hide data repr'><svg class='icon xr-icon-database'><use xlink:href='#icon-database'></use></svg></label><div class='xr-var-attrs'><dl class='xr-attrs'><dt><span>valid_range :</span></dt><dd>[  0 100]</dd><dt><span>long_name :</span></dt><dd>NOAA/NSIDC Climate Data Record of Passive Microwave Monthly Southern Hemisphere Sea Ice Concentration</dd><dt><span>standard_name :</span></dt><dd>sea_ice_area_fraction</dd><dt><span>units :</span></dt><dd>1</dd><dt><span>flag_values :</span></dt><dd>[-5 -4 -3 -2 -1]</dd><dt><span>flag_meanings :</span></dt><dd>pole_hole lakes coastal land_mask missing_data</dd><dt><span>datum :</span></dt><dd>+ellps=urn:ogc:def:crs:EPSG::4326</dd><dt><span>grid_mapping :</span></dt><dd>projection</dd><dt><span>reference :</span></dt><dd>https://nsidc.org/api/dataset/metadata/v2/oai?verb=GetRecord&amp;metadataPrefix=dif&amp;identifier=g02202</dd><dt><span>ancillary_variables :</span></dt><dd>stdev_of_seaice_conc_monthly_cdr qa_of_seaice_conc_monthly_cdr</dd></dl></div><div class='xr-var-data'><pre>[104912 values with dtype=float32]</pre></div></li><li class='xr-var-item'><div class='xr-var-name'><span>stdev_of_seaice_conc_monthly_cdr</span></div><div class='xr-var-dims'>(time, ygrid, xgrid)</div><div class='xr-var-dtype'>float32</div><div class='xr-var-preview xr-preview'>...</div><input id='attrs-ae908625-1243-49e9-a963-ed61a563ba69' class='xr-var-attrs-in' type='checkbox' ><label for='attrs-ae908625-1243-49e9-a963-ed61a563ba69' title='Show/Hide attributes'><svg class='icon xr-icon-file-text2'><use xlink:href='#icon-file-text2'></use></svg></label><input id='data-adcc480a-2489-4aee-93cc-8b8fb8e8c45b' class='xr-var-data-in' type='checkbox'><label for='data-adcc480a-2489-4aee-93cc-8b8fb8e8c45b' title='Show/Hide data repr'><svg class='icon xr-icon-database'><use xlink:href='#icon-database'></use></svg></label><div class='xr-var-attrs'><dl class='xr-attrs'><dt><span>valid_range :</span></dt><dd>[0. 1.]</dd><dt><span>long_name :</span></dt><dd>Passive Microwave Monthly Southern Hemisphere Sea Ice Concentration Source Estimated Standard Deviation</dd><dt><span>datum :</span></dt><dd>+ellps=urn:ogc:def:crs:EPSG::4326</dd><dt><span>grid_mapping :</span></dt><dd>projection</dd></dl></div><div class='xr-var-data'><pre>[104912 values with dtype=float32]</pre></div></li><li class='xr-var-item'><div class='xr-var-name'><span>melt_onset_day_seaice_conc_monthly_cdr</span></div><div class='xr-var-dims'>(time, ygrid, xgrid)</div><div class='xr-var-dtype'>float32</div><div class='xr-var-preview xr-preview'>...</div><input id='attrs-95d9cfcf-2dee-41b5-98a0-0d54efb48289' class='xr-var-attrs-in' type='checkbox' ><label for='attrs-95d9cfcf-2dee-41b5-98a0-0d54efb48289' title='Show/Hide attributes'><svg class='icon xr-icon-file-text2'><use xlink:href='#icon-file-text2'></use></svg></label><input id='data-d27a7a55-578b-4d1f-8bdc-7d812547979f' class='xr-var-data-in' type='checkbox'><label for='data-d27a7a55-578b-4d1f-8bdc-7d812547979f' title='Show/Hide data repr'><svg class='icon xr-icon-database'><use xlink:href='#icon-database'></use></svg></label><div class='xr-var-attrs'><dl class='xr-attrs'><dt><span>valid_range :</span></dt><dd>[ 60 244]</dd><dt><span>long_name :</span></dt><dd>Monthly Day of Snow Melt Onset Over Sea Ice</dd><dt><span>units :</span></dt><dd>1</dd><dt><span>datum :</span></dt><dd>+ellps=urn:ogc:def:crs:EPSG::4326</dd><dt><span>grid_mapping :</span></dt><dd>projection</dd></dl></div><div class='xr-var-data'><pre>[104912 values with dtype=float32]</pre></div></li><li class='xr-var-item'><div class='xr-var-name'><span>qa_of_seaice_conc_monthly_cdr</span></div><div class='xr-var-dims'>(time, ygrid, xgrid)</div><div class='xr-var-dtype'>float32</div><div class='xr-var-preview xr-preview'>...</div><input id='attrs-fa35fa24-4cd2-4287-bb16-dc08c2f709a1' class='xr-var-attrs-in' type='checkbox' ><label for='attrs-fa35fa24-4cd2-4287-bb16-dc08c2f709a1' title='Show/Hide attributes'><svg class='icon xr-icon-file-text2'><use xlink:href='#icon-file-text2'></use></svg></label><input id='data-55e074d0-1a43-4b71-9b85-497d64d7e928' class='xr-var-data-in' type='checkbox'><label for='data-55e074d0-1a43-4b71-9b85-497d64d7e928' title='Show/Hide data repr'><svg class='icon xr-icon-database'><use xlink:href='#icon-database'></use></svg></label><div class='xr-var-attrs'><dl class='xr-attrs'><dt><span>valid_range :</span></dt><dd>[  1 255]</dd><dt><span>long_name :</span></dt><dd>Passive Microwave Monthly Southern Hemisphere Sea Ice Concentration QC flags</dd><dt><span>standard_name :</span></dt><dd>sea_ice_area_fraction status_flag</dd><dt><span>flag_masks :</span></dt><dd>[   1    2    4    8   32   64 -128]</dd><dt><span>flag_meanings :</span></dt><dd>BT_majority_algorithm_for_monthly_CDR NT_majority_algorithm_for_monthly_CDR no_ice_allowed_per_climatology grid_cell_near_to_coast ice_present_less_half_of_month melt_detected_at_least_one_day melt_detected_greater_than_half_month</dd><dt><span>datum :</span></dt><dd>+ellps=urn:ogc:def:crs:EPSG::4326</dd><dt><span>grid_mapping :</span></dt><dd>projection</dd></dl></div><div class='xr-var-data'><pre>[104912 values with dtype=float32]</pre></div></li><li class='xr-var-item'><div class='xr-var-name'><span>goddard_merged_seaice_conc_monthly</span></div><div class='xr-var-dims'>(time, ygrid, xgrid)</div><div class='xr-var-dtype'>float32</div><div class='xr-var-preview xr-preview'>...</div><input id='attrs-7a72f1c0-3654-48af-8e6d-a0586099196d' class='xr-var-attrs-in' type='checkbox' ><label for='attrs-7a72f1c0-3654-48af-8e6d-a0586099196d' title='Show/Hide attributes'><svg class='icon xr-icon-file-text2'><use xlink:href='#icon-file-text2'></use></svg></label><input id='data-b8c17972-71cb-4eaa-a270-7b54eda3ba83' class='xr-var-data-in' type='checkbox'><label for='data-b8c17972-71cb-4eaa-a270-7b54eda3ba83' title='Show/Hide data repr'><svg class='icon xr-icon-database'><use xlink:href='#icon-database'></use></svg></label><div class='xr-var-attrs'><dl class='xr-attrs'><dt><span>valid_range :</span></dt><dd>[  0 100]</dd><dt><span>long_name :</span></dt><dd>Goddard Edited Climate Data Record of Passive Microwave Monthly Southern Hemisphere Sea Ice Concentration, Goddard Edited</dd><dt><span>standard_name :</span></dt><dd>sea_ice_area_fraction</dd><dt><span>units :</span></dt><dd>1</dd><dt><span>flag_values :</span></dt><dd>[-5 -4 -3 -2 -1]</dd><dt><span>flag_meanings :</span></dt><dd>pole_hole lakes coastal land_mask missing_data</dd><dt><span>datum :</span></dt><dd>+ellps=urn:ogc:def:crs:EPSG::4326</dd><dt><span>grid_mapping :</span></dt><dd>projection</dd><dt><span>reference :</span></dt><dd>http://nsidc.org/data/nsidc-0051.html http://nsidc.org/data/nsidc-0079.html</dd></dl></div><div class='xr-var-data'><pre>[104912 values with dtype=float32]</pre></div></li><li class='xr-var-item'><div class='xr-var-name'><span>goddard_nt_seaice_conc_monthly</span></div><div class='xr-var-dims'>(time, ygrid, xgrid)</div><div class='xr-var-dtype'>float32</div><div class='xr-var-preview xr-preview'>...</div><input id='attrs-285aa47f-0854-4fc6-b12e-12f27bbfa07f' class='xr-var-attrs-in' type='checkbox' ><label for='attrs-285aa47f-0854-4fc6-b12e-12f27bbfa07f' title='Show/Hide attributes'><svg class='icon xr-icon-file-text2'><use xlink:href='#icon-file-text2'></use></svg></label><input id='data-19a1e2f7-5060-4424-b710-2bc6f8ec6371' class='xr-var-data-in' type='checkbox'><label for='data-19a1e2f7-5060-4424-b710-2bc6f8ec6371' title='Show/Hide data repr'><svg class='icon xr-icon-database'><use xlink:href='#icon-database'></use></svg></label><div class='xr-var-attrs'><dl class='xr-attrs'><dt><span>valid_range :</span></dt><dd>[  0 100]</dd><dt><span>long_name :</span></dt><dd>Passive Microwave Monthly Southern Hemisphere Sea Ice Concentration by NASA Team algorithm with Goddard QC</dd><dt><span>standard_name :</span></dt><dd>sea_ice_area_fraction</dd><dt><span>units :</span></dt><dd>1</dd><dt><span>flag_values :</span></dt><dd>[-5 -4 -3 -2 -1]</dd><dt><span>flag_meanings :</span></dt><dd>pole_hole unused coastal land_mask missing_data</dd><dt><span>datum :</span></dt><dd>+ellps=urn:ogc:def:crs:EPSG::4326</dd><dt><span>grid_mapping :</span></dt><dd>projection</dd><dt><span>reference :</span></dt><dd>Documentation available at: http://nsidc.org/data/nsidc-0051.html</dd></dl></div><div class='xr-var-data'><pre>[104912 values with dtype=float32]</pre></div></li><li class='xr-var-item'><div class='xr-var-name'><span>goddard_bt_seaice_conc_monthly</span></div><div class='xr-var-dims'>(time, ygrid, xgrid)</div><div class='xr-var-dtype'>float32</div><div class='xr-var-preview xr-preview'>...</div><input id='attrs-cbe19168-c79d-43ec-93ce-670f9648f397' class='xr-var-attrs-in' type='checkbox' ><label for='attrs-cbe19168-c79d-43ec-93ce-670f9648f397' title='Show/Hide attributes'><svg class='icon xr-icon-file-text2'><use xlink:href='#icon-file-text2'></use></svg></label><input id='data-1c1b8e3a-b79b-4310-bd6e-6cce3098769f' class='xr-var-data-in' type='checkbox'><label for='data-1c1b8e3a-b79b-4310-bd6e-6cce3098769f' title='Show/Hide data repr'><svg class='icon xr-icon-database'><use xlink:href='#icon-database'></use></svg></label><div class='xr-var-attrs'><dl class='xr-attrs'><dt><span>valid_range :</span></dt><dd>[  0 100]</dd><dt><span>long_name :</span></dt><dd>Passive Microwave Monthly Southern Hemisphere Sea Ice Concentration by Bootstrap algorithm with Goddard QC</dd><dt><span>standard_name :</span></dt><dd>sea_ice_area_fraction</dd><dt><span>units :</span></dt><dd>1</dd><dt><span>flag_values :</span></dt><dd>[-5 -4 -3 -2 -1]</dd><dt><span>flag_meanings :</span></dt><dd>pole_hole unused coastal land_mask missing_data</dd><dt><span>datum :</span></dt><dd>+ellps=urn:ogc:def:crs:EPSG::4326</dd><dt><span>grid_mapping :</span></dt><dd>projection</dd><dt><span>reference :</span></dt><dd>Documentation available at: http://nsidc.org/data/nsidc-0079.html</dd></dl></div><div class='xr-var-data'><pre>[104912 values with dtype=float32]</pre></div></li></ul></div></li><li class='xr-section-item'><input id='section-ec5e8605-bb14-442d-8bad-c79fc7fb55a1' class='xr-section-summary-in' type='checkbox'  ><label for='section-ec5e8605-bb14-442d-8bad-c79fc7fb55a1' class='xr-section-summary' >Attributes: <span>(41)</span></label><div class='xr-section-inline-details'></div><div class='xr-section-details'><dl class='xr-attrs'><dt><span>Conventions :</span></dt><dd>CF-1.6, ACDD-1.3</dd><dt><span>title :</span></dt><dd>NOAA/NSIDC Climate Data Record of Passive Microwave Sea Ice Concentration Version 3</dd><dt><span>references :</span></dt><dd>Comiso, J. C., and F. Nishio. 2008. Trends in the Sea Ice Cover Using Enhanced and Compatible AMSR-E, SSM/I, and SMMR Data. Journal of Geophysical Research 113, C02S07, doi:10.1029/2007JC0043257. ; Comiso, J. C., D. Cavalieri, C. Parkinson, and P. Gloersen. 1997. Passive Microwave Algorithms for Sea Ice Concentrations: A Comparison of Two Techniques. Remote Sensing of the Environment 60(3):357-84. ; Comiso, J. C. 1984. Characteristics of Winter Sea Ice from Satellite Multispectral Microwave Observations. Journal of Geophysical Research 91(C1):975-94. ; Cavalieri, D. J., P. Gloersen, and W. J. Campbell. 1984. Determination of Sea Ice Parameters with the NIMBUS-7 SMMR. Journal of Geophysical Research 89(D4):5355-5369. ; Cavalieri, D. J., C. l. Parkinson, P. Gloersen, J. C. Comiso, and H. J. Zwally. 1999. Deriving Long-term Time Series of Sea Ice Cover from Satellite Passive-Microwave Multisensor Data Sets. Journal of Geophysical Research 104(7):\t15,803-15,814.</dd><dt><span>comment :</span></dt><dd>The variable melt_onset_day_seaice_conc_monthly_cdr is not available for this month.</dd><dt><span>program :</span></dt><dd>NOAA Climate Data Record Program</dd><dt><span>cdr_variable :</span></dt><dd>seaice_conc_monthly_cdr</dd><dt><span>software_version_id :</span></dt><dd>git@bitbucket.org:nsidc/seaice_cdr.git@0dabe0adea30e5b0eb3bfe812d88a585ffb6c7e7</dd><dt><span>Metadata_Link :</span></dt><dd>https://nsidc.org/api/dataset/metadata/v2/oai?verb=GetRecord&amp;metadataPrefix=dif&amp;identifier=g02202</dd><dt><span>product_version :</span></dt><dd>v03r01</dd><dt><span>spatial_resolution :</span></dt><dd>25km</dd><dt><span>standard_name_vocabulary :</span></dt><dd>CF Standard Name Table (v16, 11 October 2010)</dd><dt><span>id :</span></dt><dd>G02202</dd><dt><span>naming_authority :</span></dt><dd>nsidc.org</dd><dt><span>license :</span></dt><dd>No constraints on data access or use</dd><dt><span>summary :</span></dt><dd>This data set provides a passive microwave sea ice concentration climate data record (CDR) based on gridded brightness temperatures (TBs) from the Defense Meteorological Satellite Program (DMSP) series of passive microwave radiometers: the Special Sensor Microwave Imager (SSM/I) and the Special Sensor Microwave Imager/Sounder (SSMIS). The sea ice concentration CDR is an estimate of sea ice concentration that is produced by combining concentration estimates from two algorithms developed at the NASA Goddard Space Flight Center (GSFC): the NASA Team algorithm and the Bootstrap algorithm. The individual algorithms are processed and combined at NSIDC using brightness temperature data from Remote Sensing Systems, Inc. (RSS).  This product is designed to provide a consistent time series of sea ice concentrations (the fraction, or percentage, of ocean area covered by sea ice) from 1987 to the present which spans the coverage of several passive microwave instruments. The data are gridded on the NSIDC polar stereographic grid with 25 x 25 km grid cells, and are available in NetCDF file format. Each file contains a variable with the CDR concentration values as well as variables that hold the input NASA Team and Bootstrap concentrations for reference and a merged NASA Team/Bootstrap version of the Goddard sea ice concentrations that spans 1978 to the present made available as a longer-term analog of the CDR concentrations. Variables containing standard deviation, quality flags, and projection information are also included. Data are available via FTP. </dd><dt><span>keywords :</span></dt><dd>EARTH SCIENCE &gt; CRYOSPHERE &gt; SEA ICE &gt; SEA ICE CONCENTRATION, Geographic Region &gt; Polar, Geographic Region &gt; Southern Hemisphere, Ocean &gt; Southern Ocean, Ocean &gt; Southern Ocean &gt; Bellingshausen Sea, Ocean &gt; Southern Ocean &gt; Ross Sea, Ocean &gt; Southern Ocean &gt; Weddell Sea</dd><dt><span>keywords_vocabulary :</span></dt><dd>NASA Global Change Master Directory (GCMD) Keywords, Version 7.0.0</dd><dt><span>cdm_data_type :</span></dt><dd>Grid</dd><dt><span>project :</span></dt><dd>NOAA/NSIDC passive microwave sea ice concentration climate data record</dd><dt><span>creator_url :</span></dt><dd>http://nsidc.org/</dd><dt><span>creator_email :</span></dt><dd>nsidc@nsidc.org</dd><dt><span>institution :</span></dt><dd>NSIDC &gt; National Snow and Ice Data Center</dd><dt><span>processing_level :</span></dt><dd>NOAA Level 3</dd><dt><span>geospatial_lat_min :</span></dt><dd>-90.0</dd><dt><span>geospatial_lat_max :</span></dt><dd>-41.45</dd><dt><span>geospatial_lat_units :</span></dt><dd>degrees_north</dd><dt><span>geospatial_lon_min :</span></dt><dd>-180.0</dd><dt><span>geospatial_lon_max :</span></dt><dd>180.0</dd><dt><span>geospatial_lon_units :</span></dt><dd>degrees_east</dd><dt><span>time_coverage_duration :</span></dt><dd>P1M</dd><dt><span>time_coverage_resolution :</span></dt><dd>P1M</dd><dt><span>contributor_name :</span></dt><dd>Walt Meier, Ruth Duerr, Florence Fetterer, Julienne Stroeve, Matt Savoie, Sean Mallory</dd><dt><span>contributor_role :</span></dt><dd>PrincipalInvestigator,author,author,author,author,author</dd><dt><span>acknowledgment :</span></dt><dd>This project was supported in part by a grant from the NOAA Climate Data Record Program. Production of original NASA Team and Bootstrap algorithm estimates supported by the NASA Polar Distributed Active Archive Center. The sea ice concentration algorithms were developed by Donald J. Cavalieri, Josefino C. Comiso, Claire L. Parkinson, and others at the NASA Goddard Space Flight Center in Greenbelt, MD.</dd><dt><span>source :</span></dt><dd>ftp://sidads.colorado.edu/pub/DATASETS/NOAA/G02202_V3/south/daily/2020/seaice_conc_daily_sh_f17_20200301_v03r01.nc, ftp://sidads.colorado.edu/pub/DATASETS/NOAA/G02202_V3/south/daily/2020/seaice_conc_daily_sh_f17_20200302_v03r01.nc, ftp://sidads.colorado.edu/pub/DATASETS/NOAA/G02202_V3/south/daily/2020/seaice_conc_daily_sh_f17_20200303_v03r01.nc, ftp://sidads.colorado.edu/pub/DATASETS/NOAA/G02202_V3/south/daily/2020/seaice_conc_daily_sh_f17_20200304_v03r01.nc, ftp://sidads.colorado.edu/pub/DATASETS/NOAA/G02202_V3/south/daily/2020/seaice_conc_daily_sh_f17_20200305_v03r01.nc, ftp://sidads.colorado.edu/pub/DATASETS/NOAA/G02202_V3/south/daily/2020/seaice_conc_daily_sh_f17_20200306_v03r01.nc, ftp://sidads.colorado.edu/pub/DATASETS/NOAA/G02202_V3/south/daily/2020/seaice_conc_daily_sh_f17_20200307_v03r01.nc, ftp://sidads.colorado.edu/pub/DATASETS/NOAA/G02202_V3/south/daily/2020/seaice_conc_daily_sh_f17_20200308_v03r01.nc, ftp://sidads.colorado.edu/pub/DATASETS/NOAA/G02202_V3/south/daily/2020/seaice_conc_daily_sh_f17_20200309_v03r01.nc, ftp://sidads.colorado.edu/pub/DATASETS/NOAA/G02202_V3/south/daily/2020/seaice_conc_daily_sh_f17_20200310_v03r01.nc, ftp://sidads.colorado.edu/pub/DATASETS/NOAA/G02202_V3/south/daily/2020/seaice_conc_daily_sh_f17_20200311_v03r01.nc, ftp://sidads.colorado.edu/pub/DATASETS/NOAA/G02202_V3/south/daily/2020/seaice_conc_daily_sh_f17_20200312_v03r01.nc, ftp://sidads.colorado.edu/pub/DATASETS/NOAA/G02202_V3/south/daily/2020/seaice_conc_daily_sh_f17_20200313_v03r01.nc, ftp://sidads.colorado.edu/pub/DATASETS/NOAA/G02202_V3/south/daily/2020/seaice_conc_daily_sh_f17_20200314_v03r01.nc, ftp://sidads.colorado.edu/pub/DATASETS/NOAA/G02202_V3/south/daily/2020/seaice_conc_daily_sh_f17_20200315_v03r01.nc, ftp://sidads.colorado.edu/pub/DATASETS/NOAA/G02202_V3/south/daily/2020/seaice_conc_daily_sh_f17_20200316_v03r01.nc, ftp://sidads.colorado.edu/pub/DATASETS/NOAA/G02202_V3/south/daily/2020/seaice_conc_daily_sh_f17_20200317_v03r01.nc, ftp://sidads.colorado.edu/pub/DATASETS/NOAA/G02202_V3/south/daily/2020/seaice_conc_daily_sh_f17_20200318_v03r01.nc, ftp://sidads.colorado.edu/pub/DATASETS/NOAA/G02202_V3/south/daily/2020/seaice_conc_daily_sh_f17_20200319_v03r01.nc, ftp://sidads.colorado.edu/pub/DATASETS/NOAA/G02202_V3/south/daily/2020/seaice_conc_daily_sh_f17_20200320_v03r01.nc, ftp://sidads.colorado.edu/pub/DATASETS/NOAA/G02202_V3/south/daily/2020/seaice_conc_daily_sh_f17_20200321_v03r01.nc, ftp://sidads.colorado.edu/pub/DATASETS/NOAA/G02202_V3/south/daily/2020/seaice_conc_daily_sh_f17_20200322_v03r01.nc, ftp://sidads.colorado.edu/pub/DATASETS/NOAA/G02202_V3/south/daily/2020/seaice_conc_daily_sh_f17_20200323_v03r01.nc, ftp://sidads.colorado.edu/pub/DATASETS/NOAA/G02202_V3/south/daily/2020/seaice_conc_daily_sh_f17_20200324_v03r01.nc, ftp://sidads.colorado.edu/pub/DATASETS/NOAA/G02202_V3/south/daily/2020/seaice_conc_daily_sh_f17_20200325_v03r01.nc, ftp://sidads.colorado.edu/pub/DATASETS/NOAA/G02202_V3/south/daily/2020/seaice_conc_daily_sh_f17_20200326_v03r01.nc, ftp://sidads.colorado.edu/pub/DATASETS/NOAA/G02202_V3/south/daily/2020/seaice_conc_daily_sh_f17_20200327_v03r01.nc, ftp://sidads.colorado.edu/pub/DATASETS/NOAA/G02202_V3/south/daily/2020/seaice_conc_daily_sh_f17_20200328_v03r01.nc, ftp://sidads.colorado.edu/pub/DATASETS/NOAA/G02202_V3/south/daily/2020/seaice_conc_daily_sh_f17_20200329_v03r01.nc, ftp://sidads.colorado.edu/pub/DATASETS/NOAA/G02202_V3/south/daily/2020/seaice_conc_daily_sh_f17_20200330_v03r01.nc, ftp://sidads.colorado.edu/pub/DATASETS/NOAA/G02202_V3/south/daily/2020/seaice_conc_daily_sh_f17_20200331_v03r01.nc</dd><dt><span>history :</span></dt><dd>seaice_conc_monthly_sh_f17_202003_v03r01.nc created: 2021-03-23 23:03:52Z by user: vagrant using software: git@bitbucket.org:nsidc/seaice_cdr.git@0dabe0adea30e5b0eb3bfe812d88a585ffb6c7e7</dd><dt><span>platform :</span></dt><dd>DMSP 5D-3/F17 &gt; Defense Meteorological Satellite Program-F17</dd><dt><span>sensor :</span></dt><dd>SSMI/S &gt; Special Sensor Microwave Imager/Sounder</dd><dt><span>date_created :</span></dt><dd>2021-03-23T23:41:52Z</dd><dt><span>time_coverage_start :</span></dt><dd>2020-03-01T00:00:00Z</dd><dt><span>time_coverage_end :</span></dt><dd>2020-03-31T23:59:59Z</dd></dl></div></li></ul></div></div>"
      ],
      "text/plain": [
       "<xarray.Dataset>\n",
       "Dimensions:                                 (time: 1, xgrid: 316, ygrid: 332)\n",
       "Coordinates:\n",
       "  * time                                    (time) datetime64[ns] 2020-03-01\n",
       "  * ygrid                                   (ygrid) float32 4.338e+06 ... -3....\n",
       "  * xgrid                                   (xgrid) float32 -3.938e+06 ... 3....\n",
       "    latitude                                (ygrid, xgrid) float64 ...\n",
       "    longitude                               (ygrid, xgrid) float64 ...\n",
       "Data variables:\n",
       "    projection                              |S1 ...\n",
       "    seaice_conc_monthly_cdr                 (time, ygrid, xgrid) float32 ...\n",
       "    stdev_of_seaice_conc_monthly_cdr        (time, ygrid, xgrid) float32 ...\n",
       "    melt_onset_day_seaice_conc_monthly_cdr  (time, ygrid, xgrid) float32 ...\n",
       "    qa_of_seaice_conc_monthly_cdr           (time, ygrid, xgrid) float32 ...\n",
       "    goddard_merged_seaice_conc_monthly      (time, ygrid, xgrid) float32 ...\n",
       "    goddard_nt_seaice_conc_monthly          (time, ygrid, xgrid) float32 ...\n",
       "    goddard_bt_seaice_conc_monthly          (time, ygrid, xgrid) float32 ...\n",
       "Attributes: (12/41)\n",
       "    Conventions:               CF-1.6, ACDD-1.3\n",
       "    title:                     NOAA/NSIDC Climate Data Record of Passive Micr...\n",
       "    references:                Comiso, J. C., and F. Nishio. 2008. Trends in ...\n",
       "    comment:                   The variable melt_onset_day_seaice_conc_monthl...\n",
       "    program:                   NOAA Climate Data Record Program\n",
       "    cdr_variable:              seaice_conc_monthly_cdr\n",
       "    ...                        ...\n",
       "    history:                   seaice_conc_monthly_sh_f17_202003_v03r01.nc cr...\n",
       "    platform:                  DMSP 5D-3/F17 > Defense Meteorological Satelli...\n",
       "    sensor:                    SSMI/S > Special Sensor Microwave Imager/Sounder\n",
       "    date_created:              2021-03-23T23:41:52Z\n",
       "    time_coverage_start:       2020-03-01T00:00:00Z\n",
       "    time_coverage_end:         2020-03-31T23:59:59Z"
      ]
     },
     "execution_count": 3,
     "metadata": {},
     "output_type": "execute_result"
    }
   ],
   "source": [
    "#open the netcdf file using xarray\n",
    "march_2020"
   ]
  },
  {
   "cell_type": "code",
   "execution_count": null,
   "metadata": {},
   "outputs": [],
   "source": [
    "#look at the variables and corddinates"
   ]
  },
  {
   "cell_type": "code",
   "execution_count": 4,
   "metadata": {},
   "outputs": [
    {
     "data": {
      "text/plain": [
       "<matplotlib.collections.QuadMesh at 0x146996cd0>"
      ]
     },
     "execution_count": 4,
     "metadata": {},
     "output_type": "execute_result"
    },
    {
     "data": {
      "image/png": "[encoded data removed]",
      "text/plain": [
       "<Figure size 432x288 with 2 Axes>"
      ]
     },
     "metadata": {
      "needs_background": "light"
     },
     "output_type": "display_data"
    }
   ],
   "source": [
    "#make a simple plot of the variable `goddard_merged_seaice_conc_monthly`\n",
    "march_2020['goddard_merged_seaice_conc_monthly'].plot()"
   ]
  },
  {
   "cell_type": "markdown",
   "metadata": {},
   "source": [
    "# 2 Exclude grid cells which don't have sea ice\n",
    "**Have a look at the `flag_values` and `flag_meanings`. You will want to remove data with both of these flags, use [`xarray.where`](http://xarray.pydata.org/en/stable/generated/xarray.DataArray.where.html) for this** <br>\n",
    "**Hint: sea ice concentration can only be between 0 and 1, so values other than this should be excluded**"
   ]
  },
  {
   "cell_type": "code",
   "execution_count": 20,
   "metadata": {},
   "outputs": [],
   "source": [
    "#use xarray.where to exclude values above 1\n",
    "march_2020_new = march_2020['goddard_merged_seaice_conc_monthly'].where(march_2020['goddard_merged_seaice_conc_monthly']<=1)\n",
    "march_2020_real = march_2020_new.where(march_2020_new>=0)"
   ]
  },
  {
   "cell_type": "code",
   "execution_count": 21,
   "metadata": {},
   "outputs": [
    {
     "data": {
      "text/plain": [
       "<matplotlib.collections.QuadMesh at 0x146e80490>"
      ]
     },
     "execution_count": 21,
     "metadata": {},
     "output_type": "execute_result"
    },
    {
     "data": {
      "image/png": "[encoded data removed]",
      "text/plain": [
       "<Figure size 432x288 with 2 Axes>"
      ]
     },
     "metadata": {
      "needs_background": "light"
     },
     "output_type": "display_data"
    }
   ],
   "source": [
    "#plot your new data\n",
    "march_2020_real.plot()"
   ]
  },
  {
   "cell_type": "markdown",
   "metadata": {},
   "source": [
    "## 3 Weight the data\n",
    "### 3.1 Make a grid cell file using `cdo`"
   ]
  },
  {
   "cell_type": "code",
   "execution_count": 13,
   "metadata": {},
   "outputs": [
    {
     "name": "stdout",
     "output_type": "stream",
     "text": [
      "zsh:1: command not found: cdo\n"
     ]
    }
   ],
   "source": [
    "#use cdo gridarea\n",
    "!cdo gridarea seaice_conc_monthly_sh_f17_202003_v03r01.nc seaice_weights.nc"
   ]
  },
  {
   "cell_type": "markdown",
   "metadata": {},
   "source": [
    "### 3.2 Check your cell area file looks right by using `ncdump` and/or 'xarray'"
   ]
  },
  {
   "cell_type": "code",
   "execution_count": null,
   "metadata": {},
   "outputs": [],
   "source": []
  },
  {
   "cell_type": "code",
   "execution_count": null,
   "metadata": {},
   "outputs": [],
   "source": []
  },
  {
   "cell_type": "markdown",
   "metadata": {},
   "source": [
    "### 3.3 Multiply the sea ice concentration data by the area file "
   ]
  },
  {
   "cell_type": "code",
   "execution_count": null,
   "metadata": {},
   "outputs": [],
   "source": []
  },
  {
   "cell_type": "markdown",
   "metadata": {},
   "source": [
    "### 3.4 Sum the data\n",
    "**Use** `.sum('<coordinate>')`**, then plot your total sea ice area on a graph**\n",
    "**Use the internet and try and find out if your answer looks right, remember to think about units!**"
   ]
  },
  {
   "cell_type": "code",
   "execution_count": null,
   "metadata": {},
   "outputs": [],
   "source": [
    "#sum the data"
   ]
  },
  {
   "cell_type": "code",
   "execution_count": null,
   "metadata": {},
   "outputs": [],
   "source": [
    "#plot the summed data"
   ]
  },
  {
   "cell_type": "markdown",
   "metadata": {},
   "source": [
    "## 4 Extension\n",
    "### Make code to:\n",
    "- Download\n",
    "- Read the downloaded files (x12)\n",
    "- Mask grid cells that aren't sea ice\n",
    "- Weight the grid cells (you can reuse you grid area file from (3)\n",
    "- Sum to get sea ice area\n",
    "- Plot the annual cycle for 2020, see if it look like the data shown [here](https://nsidc.org/arcticseaicenews/charctic-interactive-sea-ice-graph/)"
   ]
  },
  {
   "cell_type": "markdown",
   "metadata": {},
   "source": [
    "### 4.1 Download all NetCDF files for 2020"
   ]
  },
  {
   "cell_type": "code",
   "execution_count": null,
   "metadata": {},
   "outputs": [],
   "source": [
    "#note it will be easiest to drag and drop the files from the ftp directory to your local directory"
   ]
  },
  {
   "cell_type": "markdown",
   "metadata": {},
   "source": [
    "### 4.2 Read in the files"
   ]
  },
  {
   "cell_type": "code",
   "execution_count": 24,
   "metadata": {},
   "outputs": [],
   "source": [
    "jan_2020 = xr.open_dataset('seaice_conc_monthly_sh_f17_202001_v03r01.nc')\n",
    "feb_2020 = xr.open_dataset('seaice_conc_monthly_sh_f17_202002_v03r01.nc')\n",
    "march_2020 = xr.open_dataset('seaice_conc_monthly_sh_f17_202003_v03r01.nc')\n",
    "apr_2020 = xr.open_dataset('seaice_conc_monthly_sh_f17_202004_v03r01.nc')\n",
    "may_2020 = xr.open_dataset('seaice_conc_monthly_sh_f17_202005_v03r01.nc')\n",
    "june_2020 = xr.open_dataset('seaice_conc_monthly_sh_f17_202006_v03r01.nc')\n",
    "july_2020 = xr.open_dataset('seaice_conc_monthly_sh_f17_202007_v03r01.nc')\n",
    "aug_2020 = xr.open_dataset('seaice_conc_monthly_sh_f17_202008_v03r01.nc')\n",
    "sep_2020 = xr.open_dataset('seaice_conc_monthly_sh_f17_202009_v03r01.nc')\n",
    "oct_2020 = xr.open_dataset('seaice_conc_monthly_sh_f17_202010_v03r01.nc')\n",
    "nov_2020 = xr.open_dataset('seaice_conc_monthly_sh_f17_202011_v03r01.nc')\n",
    "dec_2020 = xr.open_dataset('seaice_conc_monthly_sh_f17_202012_v03r01.nc')"
   ]
  },
  {
   "cell_type": "markdown",
   "metadata": {},
   "source": [
    "### 4.3 Exclude non-sea ice grid cells"
   ]
  },
  {
   "cell_type": "markdown",
   "metadata": {},
   "source": [
    "**January 2020**"
   ]
  },
  {
   "cell_type": "code",
   "execution_count": 33,
   "metadata": {},
   "outputs": [],
   "source": [
    "jan_2020_godd = jan_2020['goddard_merged_seaice_conc_monthly'].where(jan_2020['goddard_merged_seaice_conc_monthly']<=1)\n",
    "jan_2020_ex = jan_2020_godd.where(jan_2020_godd>=0)"
   ]
  },
  {
   "cell_type": "markdown",
   "metadata": {},
   "source": [
    "**February 2020**"
   ]
  },
  {
   "cell_type": "code",
   "execution_count": 31,
   "metadata": {},
   "outputs": [],
   "source": [
    "feb_2020_godd = feb_2020['goddard_merged_seaice_conc_monthly'].where(feb_2020['goddard_merged_seaice_conc_monthly']<=1)\n",
    "feb_2020_ex = feb_2020_godd.where(feb_2020_godd>=0)"
   ]
  },
  {
   "cell_type": "markdown",
   "metadata": {},
   "source": [
    "**March 2020**"
   ]
  },
  {
   "cell_type": "code",
   "execution_count": 30,
   "metadata": {},
   "outputs": [],
   "source": [
    "march_2020_godd = march_2020['goddard_merged_seaice_conc_monthly'].where(march_2020['goddard_merged_seaice_conc_monthly']<=1)\n",
    "march_2020_ex = march_2020_godd.where(march_2020_godd>=0)"
   ]
  },
  {
   "cell_type": "markdown",
   "metadata": {},
   "source": [
    "**April 2020**"
   ]
  },
  {
   "cell_type": "code",
   "execution_count": 34,
   "metadata": {},
   "outputs": [],
   "source": [
    "apr_2020_godd = apr_2020['goddard_merged_seaice_conc_monthly'].where(apr_2020['goddard_merged_seaice_conc_monthly']<=1)\n",
    "apr_2020_ex = apr_2020_godd.where(march_2020_godd>=0)"
   ]
  },
  {
   "cell_type": "markdown",
   "metadata": {},
   "source": [
    "**May 2020**"
   ]
  },
  {
   "cell_type": "code",
   "execution_count": 35,
   "metadata": {},
   "outputs": [],
   "source": [
    "may_2020_godd = may_2020['goddard_merged_seaice_conc_monthly'].where(may_2020['goddard_merged_seaice_conc_monthly']<=1)\n",
    "may_2020_ex = may_2020_godd.where(may_2020_godd>=0)"
   ]
  },
  {
   "cell_type": "markdown",
   "metadata": {},
   "source": [
    "**June 2020**"
   ]
  },
  {
   "cell_type": "code",
   "execution_count": 36,
   "metadata": {},
   "outputs": [],
   "source": [
    "june_2020_godd = june_2020['goddard_merged_seaice_conc_monthly'].where(june_2020['goddard_merged_seaice_conc_monthly']<=1)\n",
    "june_2020_ex = june_2020_godd.where(june_2020_godd>=0)"
   ]
  },
  {
   "cell_type": "markdown",
   "metadata": {},
   "source": [
    "**July 2020**"
   ]
  },
  {
   "cell_type": "code",
   "execution_count": 37,
   "metadata": {},
   "outputs": [],
   "source": [
    "july_2020_godd = july_2020['goddard_merged_seaice_conc_monthly'].where(july_2020['goddard_merged_seaice_conc_monthly']<=1)\n",
    "july_2020_ex = july_2020_godd.where(july_2020_godd>=0)"
   ]
  },
  {
   "cell_type": "markdown",
   "metadata": {},
   "source": [
    "**August 2020**"
   ]
  },
  {
   "cell_type": "code",
   "execution_count": 38,
   "metadata": {},
   "outputs": [],
   "source": [
    "aug_2020_godd = aug_2020['goddard_merged_seaice_conc_monthly'].where(aug_2020['goddard_merged_seaice_conc_monthly']<=1)\n",
    "aug_2020_ex = aug_2020_godd.where(aug_2020_godd>=0)"
   ]
  },
  {
   "cell_type": "markdown",
   "metadata": {},
   "source": [
    "**September 2020**"
   ]
  },
  {
   "cell_type": "code",
   "execution_count": 39,
   "metadata": {},
   "outputs": [],
   "source": [
    "sep_2020_godd = sep_2020['goddard_merged_seaice_conc_monthly'].where(sep_2020['goddard_merged_seaice_conc_monthly']<=1)\n",
    "sep_2020_ex = sep_2020_godd.where(sep_2020_godd>=0)"
   ]
  },
  {
   "cell_type": "markdown",
   "metadata": {},
   "source": [
    "**October 2020**"
   ]
  },
  {
   "cell_type": "code",
   "execution_count": 40,
   "metadata": {},
   "outputs": [],
   "source": [
    "oct_2020_godd = oct_2020['goddard_merged_seaice_conc_monthly'].where(oct_2020['goddard_merged_seaice_conc_monthly']<=1)\n",
    "oct_2020_ex = oct_2020_godd.where(oct_2020_godd>=0)"
   ]
  },
  {
   "cell_type": "markdown",
   "metadata": {},
   "source": [
    "**November 2020**may_2020_godd = "
   ]
  },
  {
   "cell_type": "code",
   "execution_count": 41,
   "metadata": {},
   "outputs": [],
   "source": [
    "nov_2020_godd = nov_2020['goddard_merged_seaice_conc_monthly'].where(nov_2020['goddard_merged_seaice_conc_monthly']<=1)\n",
    "nov_2020_ex = nov_2020_godd.where(nov_2020_godd>=0)"
   ]
  },
  {
   "cell_type": "markdown",
   "metadata": {},
   "source": [
    "**December 2020**"
   ]
  },
  {
   "cell_type": "code",
   "execution_count": 42,
   "metadata": {},
   "outputs": [],
   "source": [
    "dec_2020_godd = dec_2020['goddard_merged_seaice_conc_monthly'].where(dec_2020['goddard_merged_seaice_conc_monthly']<=1)\n",
    "dec_2020_ex = dec_2020_godd.where(dec_2020_godd>=0)"
   ]
  },
  {
   "cell_type": "markdown",
   "metadata": {},
   "source": [
    "### 4.4 Weight the grid cells"
   ]
  },
  {
   "cell_type": "code",
   "execution_count": 45,
   "metadata": {},
   "outputs": [],
   "source": [
    "jan_2020_weight = jan_2020_ex*25\n",
    "feb_2020_weight = feb_2020_ex*25\n",
    "march_2020_weight = march_2020_ex*25\n",
    "apr_2020_weight = apr_2020_ex*25\n",
    "may_2020_weight = may_2020_ex*25\n",
    "june_2020_weight = june_2020_ex*25\n",
    "july_2020_weight = july_2020_ex*25\n",
    "aug_2020_weight = aug_2020_ex*25\n",
    "sep_2020_weight = sep_2020_ex*25\n",
    "oct_2020_weight = oct_2020_ex*25\n",
    "nov_2020_weight = nov_2020_ex*25\n",
    "dec_2020_weight = dec_2020_ex*25"
   ]
  },
  {
   "cell_type": "markdown",
   "metadata": {},
   "source": [
    "### 4.5 Sum each of your months"
   ]
  },
  {
   "cell_type": "code",
   "execution_count": 47,
   "metadata": {},
   "outputs": [],
   "source": [
    "jan_2020_sum = jan_2020_weight.sum()\n",
    "feb_2020_sum = feb_2020_weight.sum()\n",
    "march_2020_sum = march_2020_weight.sum()\n",
    "apr_2020_sum = apr_2020_weight.sum()\n",
    "may_2020_sum = may_2020_weight.sum()\n",
    "june_2020_sum = june_2020_weight.sum()\n",
    "july_2020_sum = july_2020_weight.sum()\n",
    "aug_2020_sum = aug_2020_weight.sum()\n",
    "sep_2020_sum = sep_2020_weight.sum()\n",
    "oct_2020_sum = oct_2020_weight.sum()\n",
    "nov_2020_sum = nov_2020_weight.sum()\n",
    "dec_2020_sum = dec_2020_weight.sum()"
   ]
  },
  {
   "cell_type": "markdown",
   "metadata": {},
   "source": [
    "### 4.6 Plot the annual cycle for 2020 and compare to real data"
   ]
  },
  {
   "cell_type": "code",
   "execution_count": null,
   "metadata": {},
   "outputs": [],
   "source": [
    "#visually compare your data to the real data"
   ]
  }
 ],
 "metadata": {
  "kernelspec": {
   "display_name": "Python 3",
   "language": "python",
   "name": "python3"
  },
  "language_info": {
   "codemirror_mode": {
    "name": "ipython",
    "version": 3
   },
   "file_extension": ".py",
   "mimetype": "text/x-python",
   "name": "python",
   "nbconvert_exporter": "python",
   "pygments_lexer": "ipython3",
   "version": "3.8.10"
  }
 },
 "nbformat": 4,
 "nbformat_minor": 4
}

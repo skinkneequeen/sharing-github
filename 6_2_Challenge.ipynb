{
 "cells": [
  {
   "cell_type": "markdown",
   "metadata": {},
   "source": [
    "<h2> <font color='blue'> Day 2 afternoon Challenge"
   ]
  },
  {
   "cell_type": "markdown",
   "metadata": {},
   "source": [
    "<h3><font color=blue> The goal today is to compare seasonal timeseries of the lidar 18m wind data. A suggestion of steps are shown below, but this code can be written many different ways (and much more effieiciently than suggested below) If you have an idea of how to procede, ignore the comments! The comments should be used if you have no idea where to get started.<br/><br/>Ultimately the end goal is to have: \n",
    "    <br/> 1. a plot or plots that compares seasonal data from each month in 2020. The timesteps should be daily averaged windspeed.\n",
    "    <font color='red'><br/> 2. accomplished using only one big loop (can have nested loops inside)\n",
    "    <br/> <font color='blue'>3. a written description comparing the seasonal wind trends\n",
    "    <br/> <font color='red'>4. The same comparison as 1 but this time using both 2019 and 2020 dates to calculate the daily averaged windspeed.\n",
    "    "
   ]
  },
  {
   "cell_type": "markdown",
   "metadata": {},
   "source": [
    "<h1><font color='blue'> 1. "
   ]
  },
  {
   "cell_type": "code",
   "execution_count": 2,
   "metadata": {},
   "outputs": [],
   "source": [
    "#load in libraries you might need here\n",
    "import cartopy.crs as ccrs\n",
    "import cartopy.feature as cfeature\n",
    "import matplotlib.path as mpath\n",
    "import matplotlib.pyplot as plt\n",
    "import numpy as np\n",
    "from numpy import savetxt\n",
    "import xarray as xr\n",
    "import os\n",
    "import scipy\n",
    "import pandas as pd\n",
    "import matplotlib.colors\n",
    "from matplotlib import cm\n",
    "import netCDF4\n",
    "from netCDF4 import Dataset"
   ]
  },
  {
   "cell_type": "code",
   "execution_count": 3,
   "metadata": {},
   "outputs": [],
   "source": [
    "#load in the exact same wind_array data we used in the morning session\n",
    "lidar_winds=pd.read_csv('lidar_winds_short.csv')\n",
    "time=np.asarray(lidar_winds['timestamp'])\n",
    "wind18m=np.asarray(lidar_winds['wspd18m'])\n",
    "wind_array=np.array([time,wind18m])"
   ]
  },
  {
   "cell_type": "code",
   "execution_count": 4,
   "metadata": {},
   "outputs": [],
   "source": [
    "summer_2020 = np.array([0,0])\n",
    "for i in range(len(wind_array[0])):\n",
    "    time = wind_array[0,i]\n",
    "    wdsp = wind_array[1,i]\n",
    "    \n",
    "    year=time[6:10]\n",
    "    month=time[0:2]\n",
    "    \n",
    "    if year == '2020' and month == '06':\n",
    "        summer = [time,wdsp]\n",
    "        summer_2020 = np.vstack((summer_2020, summer))\n",
    "    if year == '2020' and month == '07':\n",
    "        summer = [time,wdsp]\n",
    "        summer_2020 = np.vstack((summer_2020, summer))\n",
    "    if year == '2020' and month == '08':\n",
    "        summer = [time,wdsp]\n",
    "        summer_2020 = np.vstack((summer_2020, summer))\n",
    "    \n",
    "summer_2020=np.delete(summer_2020,0,0)\n"
   ]
  },
  {
   "cell_type": "code",
   "execution_count": 5,
   "metadata": {},
   "outputs": [],
   "source": [
    "fall_2020 = np.array([0,0])\n",
    "for i in range(len(wind_array[0])):\n",
    "    time = wind_array[0,i]\n",
    "    wdsp = wind_array[1,i]\n",
    "    \n",
    "    year=time[6:10]\n",
    "    month=time[0:2]\n",
    "    \n",
    "    if year == '2020' and month == '09':\n",
    "        fall = [time,wdsp]\n",
    "        fall_2020 = np.vstack((fall_2020, fall))\n",
    "    if year == '2020' and month == '10':\n",
    "        fall = [time,wdsp]\n",
    "        fall_2020 = np.vstack((fall_2020, fall))\n",
    "    if year == '2020' and month == '11':\n",
    "        fall = [time,wdsp]\n",
    "        fall_2020 = np.vstack((fall_2020, fall))\n",
    "    \n",
    "fall_2020=np.delete(fall_2020,0,0)"
   ]
  },
  {
   "cell_type": "code",
   "execution_count": 6,
   "metadata": {},
   "outputs": [],
   "source": [
    "winter_2020 = np.array([0,0])\n",
    "for i in range(len(wind_array[0])):\n",
    "    time = wind_array[0,i]\n",
    "    wdsp = wind_array[1,i]\n",
    "    \n",
    "    year=time[6:10]\n",
    "    month=time[0:2]\n",
    "    \n",
    "    if year == '2020' and month == '12':\n",
    "        winter = [time,wdsp]\n",
    "        winter_2020 = np.vstack((winter_2020, winter))\n",
    "    if year == '2020' and month == '01':\n",
    "        winter = [time,wdsp]\n",
    "        winter_2020 = np.vstack((winter_2020, winter))\n",
    "    if year == '2020' and month == '02':\n",
    "        winter = [time,wdsp]\n",
    "        winter_2020 = np.vstack((winter_2020, winter))\n",
    "    \n",
    "winter_2020=np.delete(winter_2020,0,0)"
   ]
  },
  {
   "cell_type": "markdown",
   "metadata": {},
   "source": [
    "## Spring 2020 Data"
   ]
  },
  {
   "cell_type": "code",
   "execution_count": 7,
   "metadata": {},
   "outputs": [],
   "source": [
    "spring_2020 = np.array([0,0])\n",
    "for i in range(len(wind_array[0])):\n",
    "    time = wind_array[0,i]\n",
    "    wdsp = wind_array[1,i]\n",
    "    \n",
    "    year=time[6:10]\n",
    "    month=time[0:2]\n",
    "    \n",
    "    if year == '2020' and month == '03':\n",
    "        spring = [time,wdsp]\n",
    "        spring_2020 = np.vstack((spring_2020, spring))\n",
    "    if year == '2020' and month == '04':\n",
    "        spring = [time,wdsp]\n",
    "        spring_2020 = np.vstack((spring_2020, spring))\n",
    "    if year == '2020' and month == '05':\n",
    "        spring = [time,wdsp]\n",
    "        spring_2020 = np.vstack((spring_2020, spring))\n",
    "    \n",
    "spring_2020=np.delete(spring_2020,0,0)"
   ]
  },
  {
   "cell_type": "code",
   "execution_count": 8,
   "metadata": {},
   "outputs": [],
   "source": [
    "daily_spring_2020 = np.array([0,0])\n",
    "for j in range(int(len(spring_2020[:,0])/144)-1):\n",
    "    k = j*144\n",
    "    day = spring_2020[k,0][3:5]\n",
    "    \n",
    "    sum=0\n",
    "    for i in np.arange(k,k+145):\n",
    "        sum=sum+float(spring_2020[i,1])\n",
    "        \n",
    "    daily_wdsp=sum/144\n",
    "    newdailydata=[day,daily_wdsp]\n",
    "    \n",
    "    spring_2020=np.vstack((spring_2020,newdailydata))\n",
    "    spring_2020=np.delete(spring_2020,0,0)\n",
    "    "
   ]
  },
  {
   "cell_type": "code",
   "execution_count": null,
   "metadata": {},
   "outputs": [],
   "source": [
    "#Plot each of the four seasons as a timeseries on the same plot. \n",
    "##Use different colors and add a legend to make it beautiful!\n",
    "\n"
   ]
  },
  {
   "cell_type": "markdown",
   "metadata": {},
   "source": [
    "<h1><font color='red'> 2. "
   ]
  },
  {
   "cell_type": "code",
   "execution_count": null,
   "metadata": {},
   "outputs": [],
   "source": []
  },
  {
   "cell_type": "markdown",
   "metadata": {},
   "source": [
    "<h1><font color='blue'> 3. "
   ]
  },
  {
   "cell_type": "code",
   "execution_count": null,
   "metadata": {},
   "outputs": [],
   "source": [
    "#Write a few sentences of observations you see based on your seasonal winds."
   ]
  },
  {
   "cell_type": "markdown",
   "metadata": {},
   "source": [
    "<h1><font color='red'> 4. "
   ]
  },
  {
   "cell_type": "code",
   "execution_count": null,
   "metadata": {},
   "outputs": [],
   "source": []
  }
 ],
 "metadata": {
  "kernelspec": {
   "display_name": "Python [conda env:pangeo] *",
   "language": "python",
   "name": "conda-env-pangeo-py"
  },
  "language_info": {
   "codemirror_mode": {
    "name": "ipython",
    "version": 3
   },
   "file_extension": ".py",
   "mimetype": "text/x-python",
   "name": "python",
   "nbconvert_exporter": "python",
   "pygments_lexer": "ipython3",
   "version": "3.8.10"
  }
 },
 "nbformat": 4,
 "nbformat_minor": 4
}
